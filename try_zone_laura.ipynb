{
 "cells": [
  {
   "cell_type": "code",
   "execution_count": 2,
   "metadata": {},
   "outputs": [],
   "source": [
    "import scipy as sc\n",
    "import pandas as pd \n",
    "from pprint import pprint\n",
    "import matplotlib.pyplot as plt\n",
    "import numpy as np\n",
    "import seaborn as sns\n",
    "import functools\n",
    "import warnings\n",
    "import tensorflow_probability as tfp\n",
    "import tensorflow as tf\n",
    "\n",
    "from src.vi import * \n",
    "\n",
    "tfd = tfp.distributions\n",
    "tfb = tfp.bijectors\n",
    "\n",
    "warnings.filterwarnings('ignore')"
   ]
  },
  {
   "cell_type": "code",
   "execution_count": 3,
   "metadata": {},
   "outputs": [],
   "source": [
    "from src.df_processing import * \n",
    "\n",
    "x = pd.read_csv('../taxi+service+trajectory+prediction+challenge+ecml+pkdd+2015/interpolation'+'200'+'.csv')\n",
    "dataset = extract_traj(x)\n",
    "reshaped = np.array([i.reshape(-1) for i in dataset])\n",
    "reshaped.shape\n",
    "dataset = tf.cast(tf.transpose(tf.convert_to_tensor(reshaped)), tf.float32)"
   ]
  },
  {
   "cell_type": "code",
   "execution_count": 4,
   "metadata": {},
   "outputs": [],
   "source": [
    "num_datapoints = 195\n",
    "data_dim = 100\n",
    "latent_dim = 11"
   ]
  },
  {
   "cell_type": "code",
   "execution_count": 38,
   "metadata": {},
   "outputs": [],
   "source": [
    "def probabilistic_pca_tf(data_dim, latent_dim, num_datapoints, dataset):\n",
    "  alpha = tfd.InverseGamma(concentration=1.0, scale=tf.ones(latent_dim), name=\"alpha_prior\")\n",
    "  alpha_sample = alpha.sample()\n",
    "\n",
    "  sigma = tfd.LogNormal(loc=0.0,scale=1.0, name=\"sigma_prior\")\n",
    "  sigma = yield sigma\n",
    "\n",
    "  w = yield tfd.Normal(loc=tf.zeros([data_dim, latent_dim]),\n",
    "                       scale=sigma * alpha_sample *tf.ones([data_dim, latent_dim]), name=\"w_prior\")\n",
    "  \n",
    "  z = yield tfd.Normal(loc=tf.zeros([latent_dim, num_datapoints]), \n",
    "                                                     scale=tf.ones([latent_dim, num_datapoints]), name=\"z_prior\")\n",
    "  \n",
    "  x = tfd.Normal(loc=tf.matmul(w,z), scale=sigma*tf.ones([data_dim, num_datapoints]))\n",
    "  total_log_likelihood = tf.reduce_sum(x.log_prob(dataset))\n",
    "  print(total_log_likelihood)\n",
    "  x = yield x\n",
    "\n",
    "  dict_var_lat = {'alpha': alpha, 'sigma':sigma,'w':w,'z':z, 'x':x}\n",
    "  return dict_var_lat\n",
    "concrete_ppca_model = functools.partial(probabilistic_pca_tf, \n",
    "                                        data_dim=data_dim, \n",
    "                                        latent_dim=latent_dim, \n",
    "                                        num_datapoints=num_datapoints, \n",
    "                                        dataset=dataset)"
   ]
  },
  {
   "cell_type": "code",
   "execution_count": 39,
   "metadata": {},
   "outputs": [
    {
     "name": "stdout",
     "output_type": "stream",
     "text": [
      "Tensor(\"Sum:0\", shape=(), dtype=float32)\n",
      "tf.Tensor(-1555916.5, shape=(), dtype=float32)\n"
     ]
    }
   ],
   "source": [
    "list_vars = probabilistic_pca_tf(data_dim=data_dim, latent_dim=latent_dim, num_datapoints=num_datapoints, dataset=dataset)\n",
    "\n",
    "tf_model = tfd.JointDistributionCoroutineAutoBatched(concrete_ppca_model)\n",
    "true_sigma, true_w, true_z, x_train = tf_model.sample()"
   ]
  },
  {
   "cell_type": "code",
   "execution_count": 40,
   "metadata": {},
   "outputs": [
    {
     "data": {
      "image/png": "[encoded data removed]",
      "text/plain": [
       "<Figure size 800x500 with 1 Axes>"
      ]
     },
     "metadata": {},
     "output_type": "display_data"
    }
   ],
   "source": [
    "target_log_prob_fn_tf = lambda s, w, z: tf_model.log_prob((s,w, z, dataset)) # complete data log-likelihood\n",
    "\n",
    "fig = plt.figure(figsize=(8, 5))\n",
    "plt.scatter(dataset[0, :], dataset[1, :], color='blue', alpha=0.1)\n",
    "plt.xlabel('x[0]', fontsize=11)\n",
    "plt.ylabel('x[1]', fontsize=11)\n",
    "plt.show()"
   ]
  },
  {
   "cell_type": "code",
   "execution_count": 6,
   "metadata": {},
   "outputs": [],
   "source": [
    "def fct_obj(model):\n",
    "    #objectif: Compute ∇_{theta}logp(x,θ)\n",
    "    #### NAFIII \n",
    "    return \n",
    "\n",
    "def objective_fcts(model, mu, omega, tau, nb_samples): \n",
    "    nu = tf.Variable(tf.linalg.inv(tf.diag(tf.exp(omega)))@(tau-mu))\n",
    "    # E_{N(0,I)}[∇_{theta}logp(x,θ)]\n",
    "    fct_mu, esp_omega = MC_integration(model, nb_samples)\n",
    "    # E_{N(0,I)}[∇ logp(x,θ)] + η diag(exp(ω)) +1\n",
    "    return fct_mu, esp_omega + 1 # nu*tf.diag(tf.exp(omega)) + 1\n",
    "\n",
    "def step_size(): \n",
    "    return \n",
    "\n",
    "def MC_integration(model, nb_samples): \n",
    "    esp_mu = 0\n",
    "    esp_omega = 0\n",
    "    for i in range(nb_samples): \n",
    "        esp_mu += fct_obj(model)\n",
    "        esp_omega += fct_obj(model)\n",
    "    return (1/nb_samples)*esp_mu, (1/nb_samples)*esp_omega"
   ]
  },
  {
   "cell_type": "code",
   "execution_count": null,
   "metadata": {},
   "outputs": [],
   "source": [
    "def ADVI(x, tau, w, model, n_samples): \n",
    "    # Dataset x(1:N)\n",
    "    N = len(x)\n",
    "    # Model p(x,θ)\n",
    "    i = 1 # Set iteration counter \n",
    "\n",
    "    # Parameter initialization \n",
    "    mu = tf.Variable(tf.zeros(size= N, requires_grad=True))\n",
    "    omega = tf.Variable(tf.zeros(size= N, requires_grad=True)) # Mean-field   \n",
    "\n",
    "    nu = tf.Variable(tf.linalg.inv(tf.diag(tf.exp(omega)))@(tau-mu))\n",
    "    thr =  1e-4\n",
    "    change_in_ELBO = 100\n",
    "    # Define optimizer\n",
    "    #optimizer = tf.optim.SGD([mu, omega], lr=0.01)\n",
    "\n",
    "    while True: \n",
    "        # Draw M samples from normal stamdard multivariate gaussian\n",
    "        # Approximate gradients (wrt mu and w) with MC integration \n",
    "        # Compute nu\n",
    "        nu = tf.Variable(tfd.Normal(loc=tf.zeros([latent_dim, n_samples]), \n",
    "                                                     scale=tf.ones([latent_dim, n_samples])))\n",
    "\n",
    "        fct_mu, fct_omega = objective_fcts(model, mu, omega, tau, n_samples)\n",
    "\n",
    "        \"\"\" # Backpropagation to compute gradients\n",
    "        optimizer.zero_grad()\n",
    "        L.backward()\n",
    "\n",
    "        # Get gradients with respect to mu and omega\n",
    "        gradient_mu = mu.grad\n",
    "        gradient_omega = omega.grad\n",
    "        # Update parameters\n",
    "        optimizer.step()\n",
    "        \"\"\"\n",
    "        \n",
    "\n",
    "        # Calculate step-size rho[i]\n",
    "        rho = step_size(i, nu, rho)\n",
    "\n",
    "        # Update mu and w \n",
    "        mu += np.diag(rho) @ fct_mu\n",
    "        omega += np.diag(rho) @ fct_omega\n",
    "        change_in_ELBO = np.abs()\n",
    "\n",
    "        # increment iteration counter\n",
    "        i +=1\n",
    "        if abs(change_in_ELBO) < thr:\n",
    "            break \n",
    "\n",
    "    return mu.item(), omega.item()"
   ]
  },
  {
   "cell_type": "code",
   "execution_count": null,
   "metadata": {},
   "outputs": [],
   "source": []
  },
  {
   "cell_type": "code",
   "execution_count": null,
   "metadata": {},
   "outputs": [],
   "source": []
  },
  {
   "cell_type": "code",
   "execution_count": 10,
   "metadata": {},
   "outputs": [],
   "source": [
    "# initialize w, z as random variables\n",
    "w = tf.Variable(tf.random.normal([data_dim, latent_dim]))\n",
    "z = tf.Variable(tf.random.normal([latent_dim, num_datapoints]))\n",
    "\n",
    "\n",
    "qw_mean = tf.Variable(tf.random.normal([data_dim, latent_dim]))\n",
    "qz_mean = tf.Variable(tf.random.normal([latent_dim, num_datapoints]))\n",
    "\n",
    "### this is similar to the TransformedDistribution used before, instead of distribution object, it returns a variable\n",
    "qw_stddv = tfp.util.TransformedVariable(1e-4 * tf.ones([data_dim, latent_dim]),\n",
    "                                        bijector=tfb.Softplus()) # softplus ensures the output to be positiv\n",
    "\n",
    "print ('check qw_stddev: ', type(qw_stddv), qw_stddv)\n",
    "\n",
    "qz_stddv = tfp.util.TransformedVariable(1e-4 * tf.ones([latent_dim, num_datapoints]),\n",
    "                                        bijector=tfb.Softplus())\n",
    "\n",
    "################\n",
    "\n",
    "def factored_normal_variational_model():\n",
    "  qw = yield tfd.Normal(loc=qw_mean, scale=qw_stddv, name=\"qw\")\n",
    "  qz = yield tfd.Normal(loc=qz_mean, scale=qz_stddv, name=\"qz\")\n",
    "\n",
    "# like before we define a joint distribution\n",
    "surrogate_posterior = tfd.JointDistributionCoroutineAutoBatched(factored_normal_variational_model) # joint distribution q(w, z)"
   ]
  },
  {
   "cell_type": "code",
   "execution_count": 12,
   "metadata": {},
   "outputs": [],
   "source": [
    "from src.df_processing import * \n",
    "\n",
    "x = pd.read_csv('../taxi+service+trajectory+prediction+challenge+ecml+pkdd+2015/interpolation'+'200'+'.csv')\n",
    "dataset = extract_traj(x)\n",
    "reshaped = np.array([i.reshape(-1) for i in dataset])\n",
    "reshaped.shape\n",
    "dataset = tf.convert_to_tensor(reshaped)"
   ]
  },
  {
   "cell_type": "code",
   "execution_count": null,
   "metadata": {},
   "outputs": [],
   "source": []
  }
 ],
 "metadata": {
  "kernelspec": {
   "display_name": "tfp_test",
   "language": "python",
   "name": "python3"
  },
  "language_info": {
   "codemirror_mode": {
    "name": "ipython",
    "version": 3
   },
   "file_extension": ".py",
   "mimetype": "text/x-python",
   "name": "python",
   "nbconvert_exporter": "python",
   "pygments_lexer": "ipython3",
   "version": "3.10.13"
  }
 },
 "nbformat": 4,
 "nbformat_minor": 2
}
